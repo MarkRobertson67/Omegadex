{
 "cells": [
  {
   "cell_type": "markdown",
   "metadata": {},
   "source": [
    "## Introduction to Conditional Statements \n",
    "\n",
    "We have seen the working of an 'if' statement in the previous video unit. Let us go through it once again.\n",
    "\n",
    "In python, the syntax for an ‘if' conditional statement is as follows:\n",
    "\n",
    "<pre>if (condition_1):<br>\n",
    "    statement_block_1<br>\n",
    "elif (condition_2):<br>\n",
    "    statement_block_2<br>\n",
    "elif (condition_3):<br>\n",
    "    statement_block_3<br></pre>\n",
    "<br>\n",
    "Let us consider an example to understand the working of an 'if' statement.\n"
   ]
  },
  {
   "cell_type": "code",
   "execution_count": 1,
   "metadata": {},
   "outputs": [
    {
     "name": "stdout",
     "output_type": "stream",
     "text": [
      "We will buy 500 shares of ABC\n"
     ]
    }
   ],
   "source": [
    "stock_price_ABC = 299  # Variable value\n",
    "\n",
    "if (stock_price_ABC < 300):  # if condition_1 is true then...\n",
    "    # statement_block_1 will get executed\n",
    "    print(\"We will buy 500 shares of ABC\")\n",
    "\n",
    "elif (stock_price_ABC == 300):\n",
    "    print(\"We will buy 200 shares of ABC\")\n",
    "\n",
    "elif (stock_price_ABC > 300):\n",
    "    print(\"We will buy 150 shares of ABC\")"
   ]
  },
  {
   "cell_type": "markdown",
   "metadata": {},
   "source": [
    "If you change the value of the variable 'stock_price_ABC' to..."
   ]
  },
  {
   "cell_type": "code",
   "execution_count": 2,
   "metadata": {},
   "outputs": [
    {
     "name": "stdout",
     "output_type": "stream",
     "text": [
      "We will buy 200 shares of ABC\n"
     ]
    }
   ],
   "source": [
    "stock_price_ABC = 300  # then...\n",
    "\n",
    "if (stock_price_ABC < 300):\n",
    "    print(\"We will buy 500 shares of ABC\")\n",
    "\n",
    "elif (stock_price_ABC == 300):  # if condition_2 is true then...\n",
    "    # statement_block_2 will get executed\n",
    "    print(\"We will buy 200 shares of ABC\")\n",
    "\n",
    "elif (stock_price_ABC > 300):\n",
    "    print(\"We will buy 150 shares of ABC\")"
   ]
  },
  {
   "cell_type": "markdown",
   "metadata": {},
   "source": [
    "If you change the value of the variable 'stock_price_ABC' to..."
   ]
  },
  {
   "cell_type": "code",
   "execution_count": 3,
   "metadata": {},
   "outputs": [
    {
     "name": "stdout",
     "output_type": "stream",
     "text": [
      "We will buy 150 shares of ABC\n"
     ]
    }
   ],
   "source": [
    "stock_price_ABC = 301  # then...\n",
    "\n",
    "if (stock_price_ABC < 300):\n",
    "    print(\"We will buy 500 shares of ABC\")\n",
    "\n",
    "elif (stock_price_ABC == 300):\n",
    "    print(\"We will buy 200 shares of ABC\")\n",
    "\n",
    "elif (stock_price_ABC > 300):  # if condition_3 is true then...\n",
    "    # statement_block_3 will get executed\n",
    "    print(\"We will buy 150 shares of ABC\")"
   ]
  },
  {
   "cell_type": "markdown",
   "metadata": {},
   "source": [
    "## If and else \n",
    "\n",
    "If - else block of conditional statements is similar to the working of 'if' statements. If the 'if' condition is <b>true</b>, then the statements inside the 'if' block will be executed. If the 'if' condition is <b> false</b>, then the statements inside the 'else' block will be executed. \n",
    "\n",
    "In Python, the syntax for an ‘if else' conditional statement is as follows:\n",
    "\n",
    "<pre>if (condition_1):<br>\n",
    "    statement_block_1<br>\n",
    "else:<br>\n",
    "    statement_block_2<br></pre>\n",
    "<br>\n",
    "Let us consider an example to understand the working of an 'if else' statement.\n"
   ]
  },
  {
   "cell_type": "code",
   "execution_count": 4,
   "metadata": {},
   "outputs": [
    {
     "name": "stdout",
     "output_type": "stream",
     "text": [
      "We will sell the stock and book the profit\n"
     ]
    }
   ],
   "source": [
    "stock_price_ABC = 300\n",
    "\n",
    "if (stock_price_ABC > 250):  # if condition 1 is true then....\n",
    "    # this block of code will be executed\n",
    "    print(\"We will sell the stock and book the profit\")\n",
    "\n",
    "else:\n",
    "    print(\"We will keep buying the stock\")"
   ]
  },
  {
   "cell_type": "markdown",
   "metadata": {},
   "source": [
    "If you change the value of the variable 'stock_price_ABC' to..."
   ]
  },
  {
   "cell_type": "code",
   "execution_count": 5,
   "metadata": {},
   "outputs": [
    {
     "name": "stdout",
     "output_type": "stream",
     "text": [
      " We will keep buying the stock\n"
     ]
    }
   ],
   "source": [
    "stock_price_ABC = 200  # then...\n",
    "\n",
    "if (stock_price_ABC > 250):  # if condition 1 is false then....\n",
    "    print(\"We will sell the stock and book the profit\")\n",
    "\n",
    "else:\n",
    "    # this block of code will be executed\n",
    "    print(\" We will keep buying the stock\")"
   ]
  }
 ],
 "metadata": {
  "kernelspec": {
   "display_name": "Python 3 (ipykernel)",
   "language": "python",
   "name": "python3"
  },
  "language_info": {
   "codemirror_mode": {
    "name": "ipython",
    "version": 3
   },
   "file_extension": ".py",
   "mimetype": "text/x-python",
   "name": "python",
   "nbconvert_exporter": "python",
   "pygments_lexer": "ipython3",
   "version": "3.11.9"
  }
 },
 "nbformat": 4,
 "nbformat_minor": 4
}
